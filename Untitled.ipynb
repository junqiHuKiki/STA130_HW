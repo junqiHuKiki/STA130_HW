{
 "cells": [
  {
   "cell_type": "markdown",
   "id": "b39c4523",
   "metadata": {},
   "source": [
    "| **Method/Function**           | **Description**                                                                                                       | **Syntax**                                                          | **中文描述**                                                                                     | **Example Usage**                                             |\n",
    "|-------------------------------|-----------------------------------------------------------------------------------------------------------------------|----------------------------------------------------------------------|-------------------------------------------------------------------------------------------------|-----------------------------------------------------------------|\n",
    "| `__init__`                   | Initializes a new instance of the class, setting up its properties.                                                    | `def __init__(self, arg1, arg2):`                                    | 初始化类的实例，设置属性。                                                                          | `class MyClass: def __init__(self, name): self.name = name`    |\n",
    "| `merge()`                    | Merges two DataFrames, similar to SQL JOIN operations.                                                                 | `pd.merge(df1, df2, on='key', how='inner')`                         | 合并两个 DataFrame，类似 SQL 的 JOIN 操作。                                                        | `pd.merge(df1, df2, on='id', how='inner')`                     |\n",
    "| `np.log()`                   | Computes the natural logarithm of each element in an array.                                                            | `np.log(array)`                                                     | 计算数组中每个元素的自然对数。                                                                      | `np.log([1, 10, 100])`                                         |\n",
    "| `df.apply()`                 | Applies a function (like logarithm) to each element in a DataFrame column.                                              | `df['column'].apply(func)`                                          | 对 DataFrame 的列逐个元素应用函数，例如对数、平方等。                                                | `df['col'].apply(np.log)`                                      |\n",
    "| `np.arange()`                | Generates an array with evenly spaced values within a specified range.                                                  | `np.arange(start, stop, step)`                                      | 生成指定范围内按步长均匀分布的数组。                                                                | `np.arange(0, 10, 2)`                                          |\n",
    "| `df select rows`             | Selects rows from a DataFrame based on a condition.                                                                     | `df[df['column'] > value]`                                          | 按条件从 DataFrame 中选择行。                                                                       | `df[df['age'] > 18]`                                           |\n",
    "| `plt.bar()`                  | Creates a bar chart to display the distribution of categorical data.                                                    | `plt.bar(x, height)`                                                | 绘制柱状图，用于显示分类数据的分布。                                                                | `plt.bar(['A', 'B'], [10, 15])`                                |\n",
    "| `random.seed()`              | Sets the seed for the random number generator to ensure reproducibility.                                                | `np.random.seed(seed_value)`                                        | 设置随机数种子，以确保生成的随机数具有可重复性。                                                     | `np.random.seed(42)`                                           |\n",
    "| `np.mean()`                  | Calculates the mean (average) of all elements in an array.                                                             | `np.mean(array)`                                                    | 计算数组中所有元素的平均值。                                                                        | `np.mean([1, 2, 3, 4, 5])`                                     |\n",
    "| `sns.lmplot()`               | Uses Seaborn for linear regression fitting and visualization.                                                          | `sns.lmplot(x='col1', y='col2', data=df)`                           | 使用 Seaborn 可视化线性回归拟合结果。                                                               | `sns.lmplot(x='size', y='price', data=df)`                     |\n",
    "| `plt.hist()`                 | Draws a histogram to show the distribution of data.                                                                    | `plt.hist(data, bins=number)`                                       | 绘制直方图，显示数据分布。                                                                          | `plt.hist(data, bins=10)`                                      |\n",
    "| `plt.plot()`                 | Plots a line chart to display trends in continuous data.                                                               | `plt.plot(x, y)`                                                    | 绘制折线图，显示连续数据的趋势。                                                                    | `plt.plot(x, y)`                                               |\n",
    "| `np.zeros()`                 | Creates an array with all elements initialized to zero.                                                                | `np.zeros(shape)`                                                   | 创建一个所有元素都为 0 的数组。                                                                     | `np.zeros((2, 3))`                                             |\n",
    "| `df.isnull().sum()`          | Returns a Series with counts of missing values per column in the DataFrame.                                            | `df.isnull().sum()`                                                 | 返回每列中缺失值的数量。                                                                            | `df.isnull().sum()`                                            |\n",
    "| `np.random.randn()`          | Generates random numbers from a standard normal distribution.                                                          | `np.random.randn(n)`                                                | 生成服从标准正态分布的随机数。                                                                      | `np.random.randn(10)`                                          |\n",
    "| `df.fillna()`                | Fills missing values with a specified value or method (e.g., forward/backward fill).                                   | `df.fillna(value=value)`                                            | 用指定的值或方法（如前向/后向填充）填补缺失值。                                                     | `df.fillna(value=0)`                                           |\n",
    "| `df.isna()`                  | Checks for missing values and returns a DataFrame of the same shape with True for missing entries.                      | `df.isna()`                                                         | 检查缺失值，返回一个与原 DataFrame 形状相同的布尔值 DataFrame。                                        | `df.isna()`                                                    |\n",
    "| `df.dropna()`                | Removes missing values, either row-wise or column-wise.                                                                | `df.dropna(axis=0, how='any')`                                      | 删除缺失值，可以按行或按列删除包含缺失值的项。                                                       | `df.dropna(axis=0, how='any')`                                 |\n",
    "| `sns.scatterplot()`          | Creates a scatter plot to visualize relationships between two numerical variables.                                      | `sns.scatterplot(x='col1', y='col2', data=df)`                      | 绘制散点图，用于显示两个数值变量之间的关系。                                                        | `sns.scatterplot(x='age', y='income', data=df)`                |\n",
    "| `sns.violinplot()`           | Creates a violin plot to visualize the distribution of a numerical variable for different categories.                   | `sns.violinplot(x='category', y='value', data=df)`                  | 绘制小提琴图，显示数值变量在不同类别下的分布。                                                      | `sns.violinplot(x='gender', y='height', data=df)`              |\n"
   ]
  }
 ],
 "metadata": {
  "kernelspec": {
   "display_name": "Python 3 (ipykernel)",
   "language": "python",
   "name": "python3"
  },
  "language_info": {
   "codemirror_mode": {
    "name": "ipython",
    "version": 3
   },
   "file_extension": ".py",
   "mimetype": "text/x-python",
   "name": "python",
   "nbconvert_exporter": "python",
   "pygments_lexer": "ipython3",
   "version": "3.11.6"
  }
 },
 "nbformat": 4,
 "nbformat_minor": 5
}
